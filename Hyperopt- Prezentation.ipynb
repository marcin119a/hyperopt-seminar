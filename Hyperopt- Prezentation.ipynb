{
 "cells": [
  {
   "cell_type": "code",
   "execution_count": 2,
   "metadata": {
    "slideshow": {
     "slide_type": "skip"
    }
   },
   "outputs": [
    {
     "name": "stdout",
     "output_type": "stream",
     "text": [
      "Collecting numpy\n",
      "  Downloading numpy-1.19.0-cp37-cp37m-manylinux2010_x86_64.whl (14.6 MB)\n",
      "\u001b[K     |████████████████████████████████| 14.6 MB 5.0 MB/s eta 0:00:01\n",
      "\u001b[?25hInstalling collected packages: numpy\n",
      "Successfully installed numpy-1.19.0\n",
      "Collecting matplotlib\n",
      "  Downloading matplotlib-3.2.2-cp37-cp37m-manylinux1_x86_64.whl (12.4 MB)\n",
      "\u001b[K     |████████████████████████████████| 12.4 MB 4.5 MB/s eta 0:00:01\n",
      "\u001b[?25hCollecting kiwisolver>=1.0.1\n",
      "  Downloading kiwisolver-1.2.0-cp37-cp37m-manylinux1_x86_64.whl (88 kB)\n",
      "\u001b[K     |████████████████████████████████| 88 kB 11.9 MB/s eta 0:00:01\n",
      "\u001b[?25hRequirement already satisfied: pyparsing!=2.0.4,!=2.1.2,!=2.1.6,>=2.0.1 in /srv/conda/envs/notebook/lib/python3.7/site-packages (from matplotlib) (2.4.7)\n",
      "Requirement already satisfied: numpy>=1.11 in /srv/conda/envs/notebook/lib/python3.7/site-packages (from matplotlib) (1.19.0)\n",
      "Requirement already satisfied: python-dateutil>=2.1 in /srv/conda/envs/notebook/lib/python3.7/site-packages (from matplotlib) (2.8.1)\n",
      "Collecting cycler>=0.10\n",
      "  Downloading cycler-0.10.0-py2.py3-none-any.whl (6.5 kB)\n",
      "Requirement already satisfied: six>=1.5 in /srv/conda/envs/notebook/lib/python3.7/site-packages (from python-dateutil>=2.1->matplotlib) (1.15.0)\n",
      "Installing collected packages: kiwisolver, cycler, matplotlib\n",
      "Successfully installed cycler-0.10.0 kiwisolver-1.2.0 matplotlib-3.2.2\n",
      "Collecting pandas\n",
      "  Downloading pandas-1.0.5-cp37-cp37m-manylinux1_x86_64.whl (10.1 MB)\n",
      "\u001b[K     |████████████████████████████████| 10.1 MB 4.6 MB/s eta 0:00:01\n",
      "\u001b[?25hRequirement already satisfied: python-dateutil>=2.6.1 in /srv/conda/envs/notebook/lib/python3.7/site-packages (from pandas) (2.8.1)\n",
      "Collecting pytz>=2017.2\n",
      "  Downloading pytz-2020.1-py2.py3-none-any.whl (510 kB)\n",
      "\u001b[K     |████████████████████████████████| 510 kB 31.6 MB/s eta 0:00:01\n",
      "\u001b[?25hRequirement already satisfied: numpy>=1.13.3 in /srv/conda/envs/notebook/lib/python3.7/site-packages (from pandas) (1.19.0)\n",
      "Requirement already satisfied: six>=1.5 in /srv/conda/envs/notebook/lib/python3.7/site-packages (from python-dateutil>=2.6.1->pandas) (1.15.0)\n",
      "Installing collected packages: pytz, pandas\n",
      "Successfully installed pandas-1.0.5 pytz-2020.1\n",
      "Collecting hyperopt\n",
      "  Downloading hyperopt-0.2.4-py2.py3-none-any.whl (964 kB)\n",
      "\u001b[K     |████████████████████████████████| 964 kB 5.2 MB/s eta 0:00:01\n",
      "\u001b[?25hRequirement already satisfied: six in /srv/conda/envs/notebook/lib/python3.7/site-packages (from hyperopt) (1.15.0)\n",
      "Collecting cloudpickle\n",
      "  Downloading cloudpickle-1.5.0-py3-none-any.whl (22 kB)\n",
      "Collecting networkx>=2.2\n",
      "  Downloading networkx-2.4-py3-none-any.whl (1.6 MB)\n",
      "\u001b[K     |████████████████████████████████| 1.6 MB 22.5 MB/s eta 0:00:01\n",
      "\u001b[?25hCollecting scipy\n",
      "  Downloading scipy-1.5.1-cp37-cp37m-manylinux1_x86_64.whl (25.9 MB)\n",
      "\u001b[K     |████████████████████████████████| 25.9 MB 31.0 MB/s eta 0:00:01\n",
      "\u001b[?25hCollecting tqdm\n",
      "  Downloading tqdm-4.47.0-py2.py3-none-any.whl (66 kB)\n",
      "\u001b[K     |████████████████████████████████| 66 kB 9.5 MB/s  eta 0:00:01\n",
      "\u001b[?25hRequirement already satisfied: numpy in /srv/conda/envs/notebook/lib/python3.7/site-packages (from hyperopt) (1.19.0)\n",
      "Collecting future\n",
      "  Downloading future-0.18.2.tar.gz (829 kB)\n",
      "\u001b[K     |████████████████████████████████| 829 kB 24.5 MB/s eta 0:00:01\n",
      "\u001b[?25hRequirement already satisfied: decorator>=4.3.0 in /srv/conda/envs/notebook/lib/python3.7/site-packages (from networkx>=2.2->hyperopt) (4.4.2)\n",
      "Building wheels for collected packages: future\n",
      "  Building wheel for future (setup.py) ... \u001b[?25ldone\n",
      "\u001b[?25h  Created wheel for future: filename=future-0.18.2-py3-none-any.whl size=491058 sha256=3180150b8ddfe82684a853132ba3a30c1b46cd22f13bc4d21e32eb1703dab7a1\n",
      "  Stored in directory: /home/jovyan/.cache/pip/wheels/56/b0/fe/4410d17b32f1f0c3cf54cdfb2bc04d7b4b8f4ae377e2229ba0\n",
      "Successfully built future\n",
      "Installing collected packages: cloudpickle, networkx, scipy, tqdm, future, hyperopt\n",
      "Successfully installed cloudpickle-1.5.0 future-0.18.2 hyperopt-0.2.4 networkx-2.4 scipy-1.5.1 tqdm-4.47.0\n"
     ]
    }
   ],
   "source": [
    "!pip install numpy\n",
    "!pip install matplotlib\n",
    "!pip install pandas\n",
    "!pip install hyperopt"
   ]
  },
  {
   "cell_type": "markdown",
   "metadata": {
    "slideshow": {
     "slide_type": "slide"
    }
   },
   "source": [
    "### Marcin Wierzbiński -  Distributed Asynchronous Hyper-parameter Optimization Python library Hyperopt"
   ]
  },
  {
   "cell_type": "markdown",
   "metadata": {
    "slideshow": {
     "slide_type": "slide"
    }
   },
   "source": [
    "### Hyperopt: A Python Library for Optimizing the Hyperparameters of Machine Learning Algorithms\n",
    "Background\n",
    "\n",
    "* Sequential model-based optimization (also known as Bayesian optimization).\n",
    "* the most efficient methods (per function evaluation) off function minimization.\n",
    "* Aim: optimizing the hyperparameters of machine learning algorithms that are slow to train. \n",
    "\n",
    "* Hyperopt uses the Tree Parzen Estimator (TPE)."
   ]
  },
  {
   "cell_type": "markdown",
   "metadata": {
    "slideshow": {
     "slide_type": "slide"
    }
   },
   "source": [
    "## How does it work?\n",
    "\n",
    "Bayesian optimization works by constructing a posterior distribution of functions (gaussian process) that best describes the function you want to optimize. As the number of observations grows, the posterior distribution improves, and the algorithm becomes more certain of which regions in parameter space are worth exploring and which are not, as seen in the picture below.\n",
    "\n",
    "![BayesianOptimization in action](https://raw.githubusercontent.com/fmfn/BayesianOptimization/master/examples/bo_example.png)"
   ]
  },
  {
   "cell_type": "markdown",
   "metadata": {
    "slideshow": {
     "slide_type": "slide"
    }
   },
   "source": [
    "### There are four parts to an optimization problem:\n",
    "\n",
    "1.   Objective function: what we want to minimize\n",
    "2.   Domain space: values of the parameters over which to minimize the objective\n",
    "3.   Hyperparameter optimization function: constructs the surrogate function and chooses next values to evaluate\n",
    "4.   Trials: score, parameter pairs recorded each time we evaluate the objective function\n"
   ]
  },
  {
   "cell_type": "markdown",
   "metadata": {
    "slideshow": {
     "slide_type": "slide"
    }
   },
   "source": [
    "### Objective function\n",
    "* Objective function, we must make sure it returns a single real-value number to minimize. \n",
    "* If we use a metric such as accuracy, then we would have to return the negative of accuracy to tell our model to find a better accuracy!\n",
    "\n",
    "* **We can also return a dictionary (we will see this later)** where one of the keys must be \"loss\". Here we will just return the output of the function $f(params)$\n",
    "\n",
    "Example:\n"
   ]
  },
  {
   "cell_type": "code",
   "execution_count": 19,
   "metadata": {
    "slideshow": {
     "slide_type": "subslide"
    }
   },
   "outputs": [],
   "source": [
    "from timeit import default_timer as timer\n",
    "from hyperopt import STATUS_OK\n",
    "\n",
    "def objective(x):\n",
    "    \"\"\"Objective function to minimize\"\"\"\n",
    "    \n",
    "    # Create the polynomial object\n",
    "\n",
    "    f = np.poly1d([1, -2, -28, 28, 12, -26, 100])\n",
    "    \n",
    "    start = timer()\n",
    "    loss = f(x) * 0.05\n",
    "    end = timer()\n",
    "    \n",
    "    # Calculate time to evaluate\n",
    "    time_elapsed = end - start\n",
    "    \n",
    "    # Return the value of the polynomial\n",
    "    results = {'loss': loss, 'status': STATUS_OK, 'x': x, 'time': time_elapsed}\n",
    "    \n",
    "    # Return dictionary\n",
    "    return results"
   ]
  },
  {
   "cell_type": "markdown",
   "metadata": {
    "slideshow": {
     "slide_type": "slide"
    }
   },
   "source": [
    "### Example objective function for tunning neuralnetwork"
   ]
  },
  {
   "cell_type": "code",
   "execution_count": null,
   "metadata": {
    "slideshow": {
     "slide_type": "subslide"
    }
   },
   "outputs": [],
   "source": [
    "def objective(params):   \n",
    "    from keras.models import Sequential\n",
    "    from keras.layers.core import Dense, Dropout, Activation\n",
    "    from keras.optimizers import Adadelta, Adam, rmsprop\n",
    "\n",
    "    model = Sequential()\n",
    "    model.add(Dense(kernel_initializer='unform', output_dim=params['units1'], input_dim = X.shape[1])) \n",
    "    model.add(Activation(params['activation']))\n",
    "    model.add(Dropout(params['dropout1']))\n",
    "\n",
    "    model.add(Dense(kernel_initializer='unform',output_dim=params['units2'], init = \"glorot_uniform\")) \n",
    "    model.add(Activation(params['activation']))\n",
    "    model.add(Dropout(params['dropout2']))\n",
    "\n",
    "    if params['choice']['layers']== 'three':\n",
    "        model.add(Dense(output_dim=params['choice']['units3'], kernel_initializer='uniform', init = \"glorot_uniform\",)) \n",
    "        model.add(Activation(params['activation']))\n",
    "        model.add(Dropout(params['choice']['dropout3']))    \n",
    "\n",
    "    model.add(Dense(1))\n",
    "    model.add(Activation('sigmoid'))\n",
    "    model.compile(loss='binary_crossentropy', optimizer=params['optimizer'])\n",
    "\n",
    "    model.fit(X, y, nb_epoch=params['nb_epochs'], batch_size=params['batch_size'], verbose = 0)\n",
    "\n",
    "    pred_auc = model.predict_proba(X_val, batch_size = 128, verbose = 0)\n",
    "    acc = roc_auc_score(y_val, pred_auc)\n",
    "\n",
    "    sys.stdout.flush() \n",
    "    \n",
    "    return {'loss': -acc, 'status': STATUS_OK} #return dictionary!"
   ]
  },
  {
   "cell_type": "code",
   "execution_count": 25,
   "metadata": {
    "slideshow": {
     "slide_type": "slide"
    }
   },
   "outputs": [
    {
     "name": "stdout",
     "output_type": "stream",
     "text": [
      "Minimum of -219.8012 occurs at 4.8779\n"
     ]
    },
    {
     "data": {
      "image/png": "[encoded data removed]",
      "text/plain": [
       "<Figure size 576x432 with 1 Axes>"
      ]
     },
     "metadata": {},
     "output_type": "display_data"
    }
   ],
   "source": [
    "import numpy as np\n",
    "import matplotlib.pyplot as plt\n",
    "\n",
    "# Space over which to evluate the function is -5 to 6\n",
    "x = np.linspace(-5, 6, 10000)\n",
    "y = objective(x)\n",
    "\n",
    "miny = min(y['loss'])\n",
    "minx = x[np.argmin(y['loss'])]\n",
    "\n",
    "# Visualize the function\n",
    "plt.figure(figsize = (8, 6))\n",
    "plt.style.use('fivethirtyeight')\n",
    "plt.title('Objective Function'); plt.xlabel('params'); plt.ylabel('f(params)')\n",
    "plt.vlines(minx, min(y['loss'])- 50, max(y['loss']), linestyles = '--', colors = 'r')\n",
    "plt.plot(x, y['loss']);\n",
    "\n",
    "# Print out the minimum of the function and value\n",
    "print('Minimum of %0.4f occurs at %0.4f' % (miny, minx))"
   ]
  },
  {
   "cell_type": "markdown",
   "metadata": {
    "slideshow": {
     "slide_type": "slide"
    }
   },
   "source": [
    "### Domain\n",
    "\n",
    "\n",
    "The domain is the values of ***params*** over which we evaluate the function. First we can use a uniform distribution over the space our function is defined.\n",
    "\n",
    "Search space is where Hyperopt really gives you a ton of sampling options:\n",
    "* for categorical parameters you have hp.choice\n",
    "* for integers you get hp.randit, hp.quniform, hp.qloguniform and hp.qlognormal\n",
    "* for floats we have hp.normal,  hp.uniform, hp.lognormal and hp.loguniform​"
   ]
  },
  {
   "cell_type": "code",
   "execution_count": 5,
   "metadata": {
    "slideshow": {
     "slide_type": "subslide"
    }
   },
   "outputs": [],
   "source": [
    "from hyperopt import hp\n",
    "\n",
    "space = hp.uniform('x', -5, 6)"
   ]
  },
  {
   "cell_type": "code",
   "execution_count": null,
   "metadata": {
    "slideshow": {
     "slide_type": "slide"
    }
   },
   "outputs": [],
   "source": [
    "#hyperspace for NN\n",
    "space = {'choice': hp.choice('num_layers',\n",
    "                    [ {'layers':'two', },\n",
    "                      {'layers':'three',\n",
    "                        'units3': hp.uniform('units3', 64,1024), \n",
    "                        'dropout3': hp.uniform('dropout3', .25,.75)}\n",
    "                    ]),\n",
    "\n",
    "            'units1': hp.uniform('units1', 64, 1024),\n",
    "            'units2': hp.uniform('units2', 64, 1024),\n",
    "\n",
    "            'dropout1': hp.uniform('dropout1', .25,.75),\n",
    "            'dropout2': hp.uniform('dropout2',  .25,.75),\n",
    "\n",
    "            'batch_size' : hp.uniform('batch_size', 28,128),\n",
    "\n",
    "            'nb_epochs' :  100,\n",
    "            'optimizer': hp.choice('optimizer',['adadelta','adam','rmsprop']),\n",
    "            'activation': 'relu'\n",
    "        }"
   ]
  },
  {
   "cell_type": "markdown",
   "metadata": {
    "slideshow": {
     "slide_type": "slide"
    }
   },
   "source": [
    "# Hyperparameter Optimization Algorithm\n",
    "\n",
    "There are two choices for a hyperparameter optimization algorithm in Hyperopt: \n",
    "* random\n",
    "* Tree Parzen Estimator\n",
    "\n",
    "We can use both and compare the results. Using the suggest algorithm in these families automatically configures the algorithm for us."
   ]
  },
  {
   "cell_type": "code",
   "execution_count": 26,
   "metadata": {
    "slideshow": {
     "slide_type": "subslide"
    }
   },
   "outputs": [],
   "source": [
    "from hyperopt import rand, tpe\n",
    "\n",
    "# Create the algorithms\n",
    "tpe_algo = tpe.suggest\n",
    "rand_algo = rand.suggest"
   ]
  },
  {
   "cell_type": "markdown",
   "metadata": {
    "slideshow": {
     "slide_type": "slide"
    }
   },
   "source": [
    "### History runs\n",
    "* Storing the history is as simple as making a Trials object that we pass into the function call. \n",
    "* This is not strictly necessary, but it gives us information that we can use to understand what the algorithm is doing."
   ]
  },
  {
   "cell_type": "code",
   "execution_count": 27,
   "metadata": {
    "slideshow": {
     "slide_type": "subslide"
    }
   },
   "outputs": [],
   "source": [
    "from hyperopt import Trials\n",
    "\n",
    "# Create two trials objects\n",
    "tpe_trials = Trials()\n",
    "rand_trials = Trials()\n"
   ]
  },
  {
   "cell_type": "markdown",
   "metadata": {
    "slideshow": {
     "slide_type": "slide"
    }
   },
   "source": [
    "### Run the Optimization \n"
   ]
  },
  {
   "cell_type": "code",
   "execution_count": 28,
   "metadata": {
    "slideshow": {
     "slide_type": "subslide"
    }
   },
   "outputs": [
    {
     "name": "stdout",
     "output_type": "stream",
     "text": [
      "100%|██████████| 2000/2000 [00:17<00:00, 115.25trial/s, best loss: -219.80118811219114]\n",
      "{'x': 4.878481851906148}\n",
      "100%|██████████| 2000/2000 [00:03<00:00, 508.10trial/s, best loss: -219.80116907646868]\n",
      "{'x': 4.877613189834774}\n"
     ]
    }
   ],
   "source": [
    "from hyperopt import fmin\n",
    "\n",
    "# Run 2000 evals with the tpe algorithm\n",
    "tpe_best = fmin(fn=objective, space=space, algo=tpe_algo, trials=tpe_trials, \n",
    "                max_evals=2000, rstate= np.random.RandomState(50))\n",
    "\n",
    "print(tpe_best)\n",
    "\n",
    "# Run 2000 evals with the random algorithm\n",
    "rand_best = fmin(fn=objective, space=space, algo=rand_algo, trials=rand_trials, \n",
    "                 max_evals=2000, rstate= np.random.RandomState(50))\n",
    "print(rand_best)"
   ]
  },
  {
   "cell_type": "code",
   "execution_count": 29,
   "metadata": {
    "slideshow": {
     "slide_type": "slide"
    }
   },
   "outputs": [
    {
     "name": "stdout",
     "output_type": "stream",
     "text": [
      "Minimum loss attained with TPE:    -219.8012\n",
      "Minimum loss attained with random: -219.8012\n",
      "Actual minimum of f(x):            -219.8012\n",
      "\n",
      "Number of trials needed to attain minimum with TPE:    655\n",
      "Number of trials needed to attain minimum with random: 235\n",
      "\n",
      "Best value of x from TPE:    4.8785\n",
      "Best value of x from random: 4.8776\n",
      "Actual best value of x:      4.8779\n"
     ]
    }
   ],
   "source": [
    "# Print out information about losses\n",
    "print('Minimum loss attained with TPE:    {:.4f}'.format(tpe_trials.best_trial['result']['loss']))\n",
    "print('Minimum loss attained with random: {:.4f}'.format(rand_trials.best_trial['result']['loss']))\n",
    "print('Actual minimum of f(x):            {:.4f}'.format(miny))\n",
    "\n",
    "# Print out information about number of trials\n",
    "print('\\nNumber of trials needed to attain minimum with TPE:    {}'.format(tpe_trials.best_trial['misc']['idxs']['x'][0]))\n",
    "print('Number of trials needed to attain minimum with random: {}'.format(rand_trials.best_trial['misc']['idxs']['x'][0]))\n",
    "\n",
    "# Print out information about value of x\n",
    "print('\\nBest value of x from TPE:    {:.4f}'.format(tpe_best['x']))\n",
    "print('Best value of x from random: {:.4f}'.format(rand_best['x']))\n",
    "print('Actual best value of x:      {:.4f}'.format(minx))"
   ]
  },
  {
   "cell_type": "code",
   "execution_count": 30,
   "metadata": {
    "slideshow": {
     "slide_type": "slide"
    }
   },
   "outputs": [
    {
     "data": {
      "text/html": [
       "<div>\n",
       "<style scoped>\n",
       "    .dataframe tbody tr th:only-of-type {\n",
       "        vertical-align: middle;\n",
       "    }\n",
       "\n",
       "    .dataframe tbody tr th {\n",
       "        vertical-align: top;\n",
       "    }\n",
       "\n",
       "    .dataframe thead th {\n",
       "        text-align: right;\n",
       "    }\n",
       "</style>\n",
       "<table border=\"1\" class=\"dataframe\">\n",
       "  <thead>\n",
       "    <tr style=\"text-align: right;\">\n",
       "      <th></th>\n",
       "      <th>time</th>\n",
       "      <th>loss</th>\n",
       "      <th>x</th>\n",
       "      <th>iteration</th>\n",
       "    </tr>\n",
       "  </thead>\n",
       "  <tbody>\n",
       "    <tr>\n",
       "      <th>655</th>\n",
       "      <td>0.000034</td>\n",
       "      <td>-219.801188</td>\n",
       "      <td>4.878482</td>\n",
       "      <td>655</td>\n",
       "    </tr>\n",
       "    <tr>\n",
       "      <th>1369</th>\n",
       "      <td>0.000030</td>\n",
       "      <td>-219.801173</td>\n",
       "      <td>4.877646</td>\n",
       "      <td>1369</td>\n",
       "    </tr>\n",
       "    <tr>\n",
       "      <th>161</th>\n",
       "      <td>0.000029</td>\n",
       "      <td>-219.800919</td>\n",
       "      <td>4.879614</td>\n",
       "      <td>161</td>\n",
       "    </tr>\n",
       "    <tr>\n",
       "      <th>230</th>\n",
       "      <td>0.000029</td>\n",
       "      <td>-219.800612</td>\n",
       "      <td>4.875995</td>\n",
       "      <td>230</td>\n",
       "    </tr>\n",
       "    <tr>\n",
       "      <th>969</th>\n",
       "      <td>0.000033</td>\n",
       "      <td>-219.800430</td>\n",
       "      <td>4.880573</td>\n",
       "      <td>969</td>\n",
       "    </tr>\n",
       "  </tbody>\n",
       "</table>\n",
       "</div>"
      ],
      "text/plain": [
       "          time        loss         x  iteration\n",
       "655   0.000034 -219.801188  4.878482        655\n",
       "1369  0.000030 -219.801173  4.877646       1369\n",
       "161   0.000029 -219.800919  4.879614        161\n",
       "230   0.000029 -219.800612  4.875995        230\n",
       "969   0.000033 -219.800430  4.880573        969"
      ]
     },
     "execution_count": 30,
     "metadata": {},
     "output_type": "execute_result"
    }
   ],
   "source": [
    "# Results into a dataframe\n",
    "import pandas as pd\n",
    "import time\n",
    "\n",
    "results = tpe_trials.results \n",
    "results_df = pd.DataFrame({'time': [x['time'] for x in results], \n",
    "                           'loss': [x['loss'] for x in results],\n",
    "                           'x': [x['x'] for x in results],\n",
    "                            'iteration': list(range(len(results)))})\n",
    "\n",
    "# Sort with lowest loss on top\n",
    "results_df = results_df.sort_values('loss', ascending = True)\n",
    "results_df.head()\n"
   ]
  },
  {
   "cell_type": "code",
   "execution_count": 33,
   "metadata": {},
   "outputs": [
    {
     "data": {
      "image/png": "[encoded data removed]",
      "text/plain": [
       "<Figure size 432x288 with 1 Axes>"
      ]
     },
     "metadata": {},
     "output_type": "display_data"
    }
   ],
   "source": [
    "plt.hist(results_df['x'], bins = 100, edgecolor = 'k');\n",
    "plt.title('Histogram of TPE algorithm Values'); plt.xlabel('Value of x'); plt.ylabel('Count');"
   ]
  },
  {
   "cell_type": "markdown",
   "metadata": {},
   "source": [
    "evaluated cluster much closer to the optimum"
   ]
  },
  {
   "cell_type": "code",
   "execution_count": null,
   "metadata": {},
   "outputs": [],
   "source": []
  }
 ],
 "metadata": {
  "celltoolbar": "Slideshow",
  "kernelspec": {
   "display_name": "Python 3",
   "language": "python",
   "name": "python3"
  },
  "language_info": {
   "codemirror_mode": {
    "name": "ipython",
    "version": 3
   },
   "file_extension": ".py",
   "mimetype": "text/x-python",
   "name": "python",
   "nbconvert_exporter": "python",
   "pygments_lexer": "ipython3",
   "version": "3.7.6"
  }
 },
 "nbformat": 4,
 "nbformat_minor": 1
}
